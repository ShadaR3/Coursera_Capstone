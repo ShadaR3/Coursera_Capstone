{
 "cells": [
  {
   "cell_type": "markdown",
   "id": "cc8c05c9-28d0-4279-906d-ca8768978678",
   "metadata": {},
   "source": [
    "### This notebook will be used for coursera capstone project."
   ]
  },
  {
   "cell_type": "code",
   "execution_count": 1,
   "id": "fbad060b-c22b-48e6-9c24-58526417713a",
   "metadata": {},
   "outputs": [],
   "source": [
    "import pandas as pd\n",
    "import numpy as np"
   ]
  },
  {
   "cell_type": "markdown",
   "id": "8bf748f3-c0e4-4aac-be14-8f918f20475f",
   "metadata": {},
   "source": [
    "# Hello Capstone Project Course!"
   ]
  },
  {
   "cell_type": "code",
   "execution_count": null,
   "id": "1d18556c-e453-479c-b61c-f4365445f45e",
   "metadata": {},
   "outputs": [],
   "source": []
  }
 ],
 "metadata": {
  "kernelspec": {
   "display_name": "Python 3",
   "language": "python",
   "name": "python3"
  },
  "language_info": {
   "codemirror_mode": {
    "name": "ipython",
    "version": 3
   },
   "file_extension": ".py",
   "mimetype": "text/x-python",
   "name": "python",
   "nbconvert_exporter": "python",
   "pygments_lexer": "ipython3",
   "version": "3.9.5"
  }
 },
 "nbformat": 4,
 "nbformat_minor": 5
}
